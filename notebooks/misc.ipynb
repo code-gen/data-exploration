{
 "cells": [
  {
   "cell_type": "code",
   "execution_count": 94,
   "metadata": {},
   "outputs": [],
   "source": [
    "import sys\n",
    "import re\n",
    "import torch\n",
    "import torchtext\n",
    "import os\n",
    "import random\n",
    "from pprint import pprint\n",
    "from collections import Counter\n",
    "\n",
    "sys.path.insert(0, '../preprocess/')\n",
    "sys.path.insert(0, '../../coarse2fine.git/src')\n",
    "\n",
    "from sketch_generation import Sketch\n",
    "from tree import SketchRepresentation\n",
    "import table"
   ]
  },
  {
   "cell_type": "code",
   "execution_count": 45,
   "metadata": {},
   "outputs": [],
   "source": [
    "UNK_WORD = '<unk>'\n",
    "UNK = 0\n",
    "PAD_WORD = '<blank>'\n",
    "PAD = 1\n",
    "BOS_WORD = '<s>'\n",
    "BOS = 2\n",
    "EOS_WORD = '</s>'\n",
    "EOS = 3\n",
    "SKP_WORD = '<sk>'\n",
    "SKP = 4\n",
    "RIG_WORD = '<]>'\n",
    "RIG = 5\n",
    "LFT_WORD = '<[>'\n",
    "LFT = 6\n",
    "SPECIAL_TOKEN_LIST = [UNK_WORD, PAD_WORD, BOS_WORD, EOS_WORD, SKP_WORD, RIG_WORD, LFT_WORD]"
   ]
  },
  {
   "cell_type": "markdown",
   "metadata": {},
   "source": [
    "## Explore TableDataset fields"
   ]
  },
  {
   "cell_type": "code",
   "execution_count": 7,
   "metadata": {},
   "outputs": [],
   "source": [
    "def print_field(data, field):\n",
    "    print(field)\n",
    "    try:\n",
    "        print(getattr(data, field))\n",
    "    except:\n",
    "        print(\"N/A\")\n",
    "    print(\"-\"*64)"
   ]
  },
  {
   "cell_type": "code",
   "execution_count": 104,
   "metadata": {},
   "outputs": [
    {
     "name": "stdout",
     "output_type": "stream",
     "text": [
      "<class 'table.IO.TableDataset'>\n"
     ]
    }
   ],
   "source": [
    "file = '../../coarse2fine.git/data_model/django/train.pt'\n",
    "fields = sorted(list(table.IO.TableDataset.get_fields().keys()))\n",
    "\n",
    "data = torch.load(file)\n",
    "data.fields = table.IO.TableDataset.get_fields()\n",
    "\n",
    "print(type(data))"
   ]
  },
  {
   "cell_type": "code",
   "execution_count": 105,
   "metadata": {},
   "outputs": [
    {
     "name": "stdout",
     "output_type": "stream",
     "text": [
      "copy_to_ext\n",
      "['if', 'prefix', 'is', 'None']\n",
      "----------------------------------------------------------------\n",
      "copy_to_tgt\n",
      "['if', 'prefix', 'is', 'None']\n",
      "----------------------------------------------------------------\n",
      "indices\n",
      "13752\n",
      "----------------------------------------------------------------\n",
      "lay\n",
      "['if', 'NAME', 'is', 'None', ':']\n",
      "----------------------------------------------------------------\n",
      "lay_e\n",
      "['if', 'NAME', 'is', 'None', ':']\n",
      "----------------------------------------------------------------\n",
      "lay_index\n",
      "[0, 0, 1, 2, 3, 4]\n",
      "----------------------------------------------------------------\n",
      "lay_parent_index\n",
      "[0, 0, 0, 0, 0, 0]\n",
      "----------------------------------------------------------------\n",
      "src\n",
      "['if', 'prefix', 'is', 'None']\n",
      "----------------------------------------------------------------\n",
      "tgt\n",
      "['<blank>', '<blank>', '<blank>', '<blank>', '<blank>']\n",
      "----------------------------------------------------------------\n",
      "tgt_copy_ext\n",
      "['if', 'prefix', 'is', 'None', '<unk>']\n",
      "----------------------------------------------------------------\n",
      "tgt_loss\n",
      "['if', 'prefix', 'is', 'None', ':']\n",
      "----------------------------------------------------------------\n",
      "tgt_mask\n",
      "[1, 0, 0, 0, 0, 0]\n",
      "----------------------------------------------------------------\n",
      "tgt_parent_index\n",
      "[0, 0, 0, 0, 0, 0]\n",
      "----------------------------------------------------------------\n"
     ]
    }
   ],
   "source": [
    "i = random.randint(0, len(data.examples))\n",
    "\n",
    "for f in fields:\n",
    "    print_field(data.examples[i], f)"
   ]
  },
  {
   "cell_type": "markdown",
   "metadata": {},
   "source": [
    "### Vocab"
   ]
  },
  {
   "cell_type": "code",
   "execution_count": 103,
   "metadata": {},
   "outputs": [
    {
     "ename": "AttributeError",
     "evalue": "'generator' object has no attribute 'src'",
     "output_type": "error",
     "traceback": [
      "\u001b[1;31m---------------------------------------------------------------------------\u001b[0m",
      "\u001b[1;31mAttributeError\u001b[0m                            Traceback (most recent call last)",
      "\u001b[1;32m<ipython-input-103-2953c45b9bee>\u001b[0m in \u001b[0;36m<module>\u001b[1;34m()\u001b[0m\n\u001b[0;32m      4\u001b[0m \u001b[1;33m\u001b[0m\u001b[0m\n\u001b[0;32m      5\u001b[0m \u001b[0mcounter\u001b[0m \u001b[1;33m=\u001b[0m \u001b[0mCounter\u001b[0m\u001b[1;33m(\u001b[0m\u001b[1;33m)\u001b[0m\u001b[1;33m\u001b[0m\u001b[0m\n\u001b[1;32m----> 6\u001b[1;33m \u001b[0msources\u001b[0m \u001b[1;33m=\u001b[0m \u001b[1;33m[\u001b[0m\u001b[0mgetattr\u001b[0m\u001b[1;33m(\u001b[0m\u001b[0mdata\u001b[0m\u001b[1;33m,\u001b[0m \u001b[1;34m'src'\u001b[0m\u001b[1;33m)\u001b[0m\u001b[1;33m]\u001b[0m\u001b[1;33m\u001b[0m\u001b[0m\n\u001b[0m\u001b[0;32m      7\u001b[0m \u001b[1;33m\u001b[0m\u001b[0m\n\u001b[0;32m      8\u001b[0m \u001b[1;32mfor\u001b[0m \u001b[0mdata\u001b[0m \u001b[1;32min\u001b[0m \u001b[0msources\u001b[0m\u001b[1;33m:\u001b[0m\u001b[1;33m\u001b[0m\u001b[0m\n",
      "\u001b[1;31mAttributeError\u001b[0m: 'generator' object has no attribute 'src'"
     ]
    }
   ],
   "source": [
    "vocab = []\n",
    "\n",
    "src_field = torchtext.data.Field(pad_token=PAD_WORD, include_lengths=True)\n",
    "\n",
    "counter = Counter()\n",
    "sources = [getattr(data, 'src')]\n",
    "\n",
    "for data in sources:\n",
    "    for x in data:\n",
    "        counter.update(x)\n",
    "\n",
    "counter.most_common(20)\n",
    "# print(vocab)\n"
   ]
  },
  {
   "cell_type": "code",
   "execution_count": 44,
   "metadata": {},
   "outputs": [
    {
     "name": "stdout",
     "output_type": "stream",
     "text": [
      "0 x\n",
      "1 =\n",
      "2 func\n",
      "3 (\n",
      "4 a\n",
      "5 +\n",
      "6 func2\n",
      "7 (\n",
      "8 x\n",
      "9 +\n",
      "10 y\n",
      "11 )\n",
      "12 )\n"
     ]
    },
    {
     "data": {
      "text/plain": [
       "[0, 0, 0, 0, 4, 4, 4, 4, 8, 8, 8, 8, 4, 0]"
      ]
     },
     "execution_count": 44,
     "metadata": {},
     "output_type": "execute_result"
    }
   ],
   "source": [
    "def get_parent_index(tk_list):\n",
    "    stack = [0]\n",
    "    r_list = []\n",
    "    \n",
    "    for i, tk in enumerate(tk_list):\n",
    "        print(i, tk)\n",
    "        r_list.append(stack[-1])\n",
    "        \n",
    "        if tk.startswith('('):\n",
    "            # +1: because the parent of the top level is 0\n",
    "            stack.append(i + 1)\n",
    "        elif tk == ')':\n",
    "            stack.pop()\n",
    "            \n",
    "    # for EOS (</s>)\n",
    "    r_list.append(0)\n",
    "    return r_list\n",
    "\n",
    "\n",
    "# get_parent_index('x = func ( a + func2 ( x + y ) )'.split())"
   ]
  },
  {
   "cell_type": "code",
   "execution_count": 51,
   "metadata": {},
   "outputs": [
    {
     "data": {
      "text/plain": [
       "[0, 0, 1, 2, 3, 4, 5]"
      ]
     },
     "execution_count": 51,
     "metadata": {},
     "output_type": "execute_result"
    }
   ],
   "source": [
    "def get_lay_index(lay_skip):\n",
    "    # with a <s> token at the first position\n",
    "    r_list = [0]\n",
    "    k = 0\n",
    "    for tk in lay_skip:\n",
    "        if tk in (SKP_WORD, RIG_WORD):\n",
    "            r_list.append(0)\n",
    "        else:\n",
    "            r_list.append(k)\n",
    "            k += 1\n",
    "    return r_list\n",
    "\n",
    "get_lay_index('NAME = FUNC#1 ( NAME )'.split())"
   ]
  },
  {
   "cell_type": "code",
   "execution_count": null,
   "metadata": {},
   "outputs": [],
   "source": []
  }
 ],
 "metadata": {
  "kernelspec": {
   "display_name": "Python 3",
   "language": "python",
   "name": "python3"
  },
  "language_info": {
   "codemirror_mode": {
    "name": "ipython",
    "version": 3
   },
   "file_extension": ".py",
   "mimetype": "text/x-python",
   "name": "python",
   "nbconvert_exporter": "python",
   "pygments_lexer": "ipython3",
   "version": "3.5.6"
  }
 },
 "nbformat": 4,
 "nbformat_minor": 2
}
