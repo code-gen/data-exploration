{
 "cells": [
  {
   "cell_type": "code",
   "execution_count": 1,
   "metadata": {},
   "outputs": [],
   "source": [
    "import ast\n",
    "import astpretty\n",
    "import sys\n",
    "\n",
    "sys.path.insert(0, '../preprocess/')\n",
    "sys.path.insert(0, '../../coarse2fine.git/src')\n",
    "\n",
    "from sketch_generation import Sketch\n",
    "from tree import SketchRepresentation"
   ]
  },
  {
   "cell_type": "code",
   "execution_count": 4,
   "metadata": {},
   "outputs": [],
   "source": [
    "SKP_WORD = '<sk>'\n",
    "RIG_WORD = '<]>'\n",
    "LFT_WORD = '<[>'\n",
    "\n",
    "def is_code_eq(tokens1, tokens2, not_layout=False):\n",
    "\n",
    "    if isinstance(tokens1, SketchRepresentation):\n",
    "        tokens1 = str(tokens1)\n",
    "    else:\n",
    "        tokens1 = ' '.join(tokens1)\n",
    "\n",
    "    if isinstance(tokens2, SketchRepresentation):\n",
    "        tokens2 = str(tokens2)\n",
    "    else:\n",
    "        tokens2 = ' '.join(tokens2)\n",
    "\n",
    "    tokens1 = ['\\\"' if it in (RIG_WORD, LFT_WORD) else it for it in tokens1.split(' ')]\n",
    "    tokens2 = ['\\\"' if it in (RIG_WORD, LFT_WORD) else it for it in tokens2.split(' ')]\n",
    "\n",
    "    if len(tokens1) != len(tokens2):\n",
    "        return False\n",
    "\n",
    "    return all(map(lambda tk1, tk2: tk1 == tk2, tokens1, tokens2))"
   ]
  },
  {
   "cell_type": "code",
   "execution_count": 14,
   "metadata": {},
   "outputs": [
    {
     "name": "stdout",
     "output_type": "stream",
     "text": [
      "Assign(\n",
      "    lineno=1,\n",
      "    col_offset=0,\n",
      "    targets=[Name(lineno=1, col_offset=0, id='x', ctx=Store())],\n",
      "    value=BinOp(\n",
      "        lineno=1,\n",
      "        col_offset=4,\n",
      "        left=Name(lineno=1, col_offset=4, id='b', ctx=Load()),\n",
      "        op=Add(),\n",
      "        right=Name(lineno=1, col_offset=8, id='a', ctx=Load()),\n",
      "    ),\n",
      ")\n",
      "Assign(\n",
      "    lineno=1,\n",
      "    col_offset=0,\n",
      "    targets=[Name(lineno=1, col_offset=0, id='x', ctx=Store())],\n",
      "    value=BinOp(\n",
      "        lineno=1,\n",
      "        col_offset=4,\n",
      "        left=Name(lineno=1, col_offset=4, id='a', ctx=Load()),\n",
      "        op=Add(),\n",
      "        right=Name(lineno=1, col_offset=8, id='b', ctx=Load()),\n",
      "    ),\n",
      ")\n"
     ]
    }
   ],
   "source": [
    "code1 = 'x = b + a'\n",
    "code2 = 'x = a + b'\n",
    "\n",
    "astpretty.pprint(ast.parse(code1).body[0], indent=' ' * 4)\n",
    "astpretty.pprint(ast.parse(code2).body[0], indent=' ' * 4)"
   ]
  }
 ],
 "metadata": {
  "kernelspec": {
   "display_name": "Python 3",
   "language": "python",
   "name": "python3"
  },
  "language_info": {
   "codemirror_mode": {
    "name": "ipython",
    "version": 3
   },
   "file_extension": ".py",
   "mimetype": "text/x-python",
   "name": "python",
   "nbconvert_exporter": "python",
   "pygments_lexer": "ipython3",
   "version": "3.7.2"
  }
 },
 "nbformat": 4,
 "nbformat_minor": 2
}
