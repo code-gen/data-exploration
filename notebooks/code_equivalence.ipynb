{
 "cells": [
  {
   "cell_type": "markdown",
   "metadata": {},
   "source": [
    "## Code Equivalence Notebook"
   ]
  },
  {
   "cell_type": "code",
   "execution_count": null,
   "metadata": {},
   "outputs": [],
   "source": [
    "import ast\n",
    "import astpretty\n",
    "import showast\n",
    "import sys\n",
    "import re\n",
    "\n",
    "sys.path.insert(0, '../preprocess/')\n",
    "sys.path.insert(0, '../../coarse2fine.git/src')\n",
    "\n",
    "from sketch_generation import Sketch\n",
    "from tree import SketchRepresentation\n",
    "import table"
   ]
  },
  {
   "cell_type": "code",
   "execution_count": null,
   "metadata": {},
   "outputs": [],
   "source": [
    "SKP_WORD = '<sk>'\n",
    "RIG_WORD = '<]>'\n",
    "LFT_WORD = '<[>'\n",
    "\n",
    "def is_code_eq(tokens1, tokens2, not_layout=False):\n",
    "\n",
    "    if isinstance(tokens1, SketchRepresentation):\n",
    "        tokens1 = str(tokens1)\n",
    "    else:\n",
    "        tokens1 = ' '.join(tokens1)\n",
    "\n",
    "    if isinstance(tokens2, SketchRepresentation):\n",
    "        tokens2 = str(tokens2)\n",
    "    else:\n",
    "        tokens2 = ' '.join(tokens2)\n",
    "\n",
    "    tokens1 = ['\\\"' if it in (RIG_WORD, LFT_WORD) else it for it in tokens1.split(' ')]\n",
    "    tokens2 = ['\\\"' if it in (RIG_WORD, LFT_WORD) else it for it in tokens2.split(' ')]\n",
    "\n",
    "    if len(tokens1) != len(tokens2):\n",
    "        return False\n",
    "\n",
    "    return all(map(lambda tk1, tk2: tk1 == tk2, tokens1, tokens2))"
   ]
  },
  {
   "cell_type": "code",
   "execution_count": null,
   "metadata": {},
   "outputs": [],
   "source": [
    "# AST => Node Type [AST]\n",
    "class Node:\n",
    "    def __init__(self, val, *kids):\n",
    "        self.val = val\n",
    "        self.kids = kids\n",
    "    \n",
    "    def __str__(self):\n",
    "        return Node.to_string(self, indent=2, c=' ')\n",
    "\n",
    "    def __repr__(self):\n",
    "        return str(self)\n",
    "    \n",
    "    @staticmethod\n",
    "    def val_to_string(val):\n",
    "        if len(val) == 1:\n",
    "            n, f = val[0]\n",
    "            if n == 'body':\n",
    "                f = f[0]\n",
    "            s = \"%s: %s\\n\" % (n, f.__class__.__name__)\n",
    "        else:\n",
    "            s = ', '.join(['%s: %s' % (n, f.__class__.__name__) for n, f in val]) + \"\\n\"\n",
    "            \n",
    "        return s\n",
    "    \n",
    "    @staticmethod\n",
    "    def to_string(node, indent=2, c=' '):        \n",
    "        if node.val == []:\n",
    "            return ''        \n",
    "\n",
    "        s = Node.val_to_string(node.val)\n",
    "\n",
    "        for k in node.kids:\n",
    "            _s = Node.to_string(k, indent*2)\n",
    "            if _s != '':\n",
    "                s += (c * indent) + _s\n",
    "\n",
    "        return s\n",
    "    \n",
    "class Nil(Node):\n",
    "    def __init__(self):\n",
    "        self.val = None\n",
    "        self.kids = []\n",
    "    \n",
    "    def __str__(self):\n",
    "        return \"x\"\n",
    "    \n",
    "    def __repr__(self):\n",
    "        return str(self)\n",
    "    \n",
    "class Leaf(Node):\n",
    "    def __init__(self, val):\n",
    "        self.val = val\n",
    "        self.kids = []\n",
    "    \n",
    "    def __str__(self):\n",
    "        return '%d' % self.val\n",
    "    \n",
    "    def __repr__(self):\n",
    "        return str(self)\n",
    "    \n",
    "# TODO\n",
    "    \n",
    "def cons_tree(t):\n",
    "    val = list(ast.iter_fields(t))\n",
    "    kids = list(ast.iter_child_nodes(t))\n",
    "    \n",
    "    return Node(val, *[cons_tree(k) for k in kids])\n",
    "\n",
    "def zip_tree_pred(pred, t1, t2):    \n",
    "    zs = [pred(t1.val, t2.val)]\n",
    "    \n",
    "    for k1, k2 in zip(t1.kids, t2.kids):\n",
    "        zs.append(zip_tree_pred(pred, k1, k2))\n",
    "    \n",
    "    return all(zs)"
   ]
  },
  {
   "cell_type": "code",
   "execution_count": null,
   "metadata": {},
   "outputs": [],
   "source": [
    "code1 = '[x for x in range(10)]'\n",
    "code2 = '[i for i in [1,2,3]]'\n",
    "\n",
    "tree1 = ast.parse(code1)\n",
    "tree2 = ast.parse(code2)\n",
    "\n",
    "t1 = cons_tree(tree1)\n",
    "t2 = cons_tree(tree2)\n",
    "\n",
    "def cmp_func(x, y):\n",
    "    s1 = Node.val_to_string(x)\n",
    "    s2 = Node.val_to_string(y)\n",
    "    return s1 == s2\n",
    "        \n",
    "zip_tree_pred(cmp_func, t1, t2)"
   ]
  },
  {
   "cell_type": "code",
   "execution_count": null,
   "metadata": {},
   "outputs": [],
   "source": [
    "%%showast\n",
    "x = self.func(1, 'test', var)"
   ]
  },
  {
   "cell_type": "code",
   "execution_count": null,
   "metadata": {},
   "outputs": [],
   "source": [
    "%%showast\n",
    "raise RuntimeError('[%s]' % self.get_err_msg(timestamp[:2]))\n",
    "\n",
    "# tree = Node(Assign, [Attribute(Name(self), var), Name(x)])"
   ]
  },
  {
   "cell_type": "code",
   "execution_count": null,
   "metadata": {},
   "outputs": [],
   "source": [
    "# astpretty.pprint(tree1.body[0], indent=' ' * 4)\n",
    "astpretty.pprint(tree2.body[0], indent=' ' * 4)"
   ]
  },
  {
   "cell_type": "markdown",
   "metadata": {},
   "source": [
    "## Eval framework"
   ]
  },
  {
   "cell_type": "code",
   "execution_count": null,
   "metadata": {},
   "outputs": [],
   "source": [
    "## TODO"
   ]
  }
 ],
 "metadata": {
  "kernelspec": {
   "display_name": "Python 3",
   "language": "python",
   "name": "python3"
  },
  "language_info": {
   "codemirror_mode": {
    "name": "ipython",
    "version": 3
   },
   "file_extension": ".py",
   "mimetype": "text/x-python",
   "name": "python",
   "nbconvert_exporter": "python",
   "pygments_lexer": "ipython3",
   "version": "3.7.3"
  }
 },
 "nbformat": 4,
 "nbformat_minor": 2
}
