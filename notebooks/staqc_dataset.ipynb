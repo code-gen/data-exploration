{
 "cells": [
  {
   "cell_type": "markdown",
   "metadata": {},
   "source": [
    "### [StaQC: A Systematically Mined Question-Code Dataset from Stack Overflow](https://github.com/LittleYUYU/StackOverflow-Question-Code-Dataset) Exploration Notebook"
   ]
  },
  {
   "cell_type": "code",
   "execution_count": 4,
   "metadata": {},
   "outputs": [],
   "source": [
    "import pickle\n",
    "from pprint import pprint\n",
    "import random"
   ]
  },
  {
   "cell_type": "code",
   "execution_count": 5,
   "metadata": {},
   "outputs": [],
   "source": [
    "root_dir = '../../raw-datasets/staqc/annotation_tool/data'\n",
    "code_dir = root_dir + '/code_solution_labeled_data/source'\n",
    "\n",
    "code_pkl = code_dir + '/python_how_to_do_it_qid_by_classifier_unlabeled_single_code_answer_qid_to_code.pickle'\n",
    "title_pkl = code_dir + '/python_how_to_do_it_qid_by_classifier_unlabeled_single_code_answer_qid_to_title.pickle'\n",
    "\n",
    "code_xs = pickle.load(open(code_pkl, 'rb'))\n",
    "title_xs = pickle.load(open(title_pkl, 'rb'))"
   ]
  },
  {
   "cell_type": "code",
   "execution_count": 8,
   "metadata": {},
   "outputs": [
    {
     "name": "stdout",
     "output_type": "stream",
     "text": [
      "How can you print a variable name in python?\n",
      "import inspect, re\n",
      "\n",
      "def varname(p):\n",
      "  for line in inspect.getframeinfo(inspect.currentframe().f_back)[3]:\n",
      "    m = re.search(r'\\bvarname\\s*\\(\\s*([A-Za-z_][A-Za-z0-9_]*)\\s*\\)', line)\n",
      "    if m:\n",
      "      return m.group(1)\n",
      "\n",
      "if __name__ == '__main__':\n",
      "  spam = 42\n",
      "  print varname(spam)\n"
     ]
    }
   ],
   "source": [
    "predicate = lambda c: True # 5 <= len(c) <= 100\n",
    "data = [\n",
    "    (title_xs[key], snippet.strip()) for i, (key, snippet) \n",
    "    in enumerate(code_xs.items()) \n",
    "    if predicate(snippet)\n",
    "]\n",
    "\n",
    "q, c = random.sample(data, 1)[0]\n",
    "\n",
    "print(q)\n",
    "print(c)"
   ]
  }
 ],
 "metadata": {
  "kernelspec": {
   "display_name": "Python 3",
   "language": "python",
   "name": "python3"
  },
  "language_info": {
   "codemirror_mode": {
    "name": "ipython",
    "version": 3
   },
   "file_extension": ".py",
   "mimetype": "text/x-python",
   "name": "python",
   "nbconvert_exporter": "python",
   "pygments_lexer": "ipython3",
   "version": "3.7.4"
  }
 },
 "nbformat": 4,
 "nbformat_minor": 4
}
