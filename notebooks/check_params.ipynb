{
 "cells": [
  {
   "cell_type": "code",
   "execution_count": null,
   "metadata": {},
   "outputs": [],
   "source": [
    "import pickle\n",
    "from collections import Counter\n",
    "from tqdm.auto import tqdm"
   ]
  },
  {
   "cell_type": "code",
   "execution_count": null,
   "metadata": {},
   "outputs": [],
   "source": [
    "question_words = pickle.load(open('../../corpus/python-stackoverflow/question_words_clean.pickle', 'rb'))\n",
    "pt_emb = pickle.load(open('../../embeddings/glove.6B.200d.txt.pickle', 'rb'))"
   ]
  },
  {
   "cell_type": "code",
   "execution_count": null,
   "metadata": {},
   "outputs": [],
   "source": [
    "def check_parameters(min_freq, vocab_size, corpus, pt_emb):\n",
    "    all_words = []\n",
    "    counter = Counter()\n",
    "    \n",
    "    if isinstance(corpus, str):\n",
    "        corpus = pickle.load(open(corpus, 'rb'))\n",
    "    if isinstance(pt_emb, str):\n",
    "        pt_emb = pickle.load(open(pt_emb, 'rb'))\n",
    "    \n",
    "    word_predicate = lambda w : w in pt_emb\n",
    "\n",
    "    for sent in tqdm(corpus, desc=\"Question words processing\"):\n",
    "        for word in sent:\n",
    "            if word_predicate(word):\n",
    "                counter[word] += 1\n",
    "                all_words.append(word)\n",
    "\n",
    "    all_words = [word for word in all_words if counter[word] >= min_freq]\n",
    "\n",
    "    return Counter(dict(Counter(all_words).most_common()[:vocab_size]))\n",
    "\n",
    "\n",
    "c = check_parameters(min_freq=100, vocab_size=8000, corpus=question_words, pt_emb=pt_emb)"
   ]
  },
  {
   "cell_type": "code",
   "execution_count": null,
   "metadata": {},
   "outputs": [],
   "source": [
    "test_words= \"\"\"\n",
    "    call function return value assign invoke procedure module import parameter argument\n",
    "    syntax error replace process fork thread child semantic distance edit parameters arguments\n",
    "    flow folder open close descriptor language comprehension list set dictionary braces curly\n",
    "    sketch encoding kernel security algorithm loop recursive recursion mutual linux unix system \n",
    "    expression regular compile compiler bug fix workaround issue github git dinosaurs\n",
    "\"\"\" .split()\n",
    "        \n",
    "print(\"Not found:\", set(test_words) - set(c.keys()))\n",
    "    \n",
    "# c.most_common()[-100:]"
   ]
  },
  {
   "cell_type": "code",
   "execution_count": null,
   "metadata": {},
   "outputs": [],
   "source": [
    "len(question_words)"
   ]
  }
 ],
 "metadata": {
  "kernelspec": {
   "display_name": "Python 3",
   "language": "python",
   "name": "python3"
  },
  "language_info": {
   "codemirror_mode": {
    "name": "ipython",
    "version": 3
   },
   "file_extension": ".py",
   "mimetype": "text/x-python",
   "name": "python",
   "nbconvert_exporter": "python",
   "pygments_lexer": "ipython3",
   "version": "3.7.3"
  }
 },
 "nbformat": 4,
 "nbformat_minor": 2
}
