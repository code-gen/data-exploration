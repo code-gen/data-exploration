{
 "cells": [
  {
   "cell_type": "markdown",
   "metadata": {},
   "source": [
    "## GitHub CodeSearch Exploration Notebook"
   ]
  },
  {
   "cell_type": "code",
   "execution_count": 1,
   "metadata": {},
   "outputs": [],
   "source": [
    "import os\n",
    "import json\n",
    "from pprint import pprint\n",
    "import pandas as pd\n",
    "\n",
    "import random"
   ]
  },
  {
   "cell_type": "code",
   "execution_count": 2,
   "metadata": {},
   "outputs": [
    {
     "name": "stdout",
     "output_type": "stream",
     "text": [
      "python_train_0.jsonl.gz   python_train_1.jsonl.gz  python_train_6.jsonl.gz\n",
      "python_train_10.jsonl.gz  python_train_2.jsonl.gz  python_train_7.jsonl.gz\n",
      "python_train_11.jsonl.gz  python_train_3.jsonl.gz  python_train_8.jsonl.gz\n",
      "python_train_12.jsonl.gz  python_train_4.jsonl.gz  python_train_9.jsonl.gz\n",
      "python_train_13.jsonl.gz  python_train_5.jsonl.gz\n"
     ]
    }
   ],
   "source": [
    "!ls ../../raw-datasets/github-codesearch-python/final/jsonl/train"
   ]
  },
  {
   "cell_type": "code",
   "execution_count": 3,
   "metadata": {},
   "outputs": [],
   "source": [
    "root_dir = '../../raw-datasets/github-codesearch-python/final/jsonl'\n",
    "\n",
    "train_dir = os.path.join(root_dir, 'train')\n",
    "test_dir  = os.path.join(root_dir, 'test')\n",
    "valid_dir = os.path.join(root_dir, 'valid')\n",
    "\n",
    "train_data = os.path.join(test_dir, )\n",
    "test_data  = os.path.join(test_dir, 'python_test_0.jsonl')\n",
    "\n",
    "def to_df(path):\n",
    "    xs = [json.loads(l.strip()) for l in open(path).readlines()]\n",
    "    print('there are %d examples in %s' % (len(xs), path.split('/')[-1]))\n",
    "    \n",
    "    df = {k: [] for k in xs[0].keys()}\n",
    "    \n",
    "    for x in xs:\n",
    "        for k, v in x.items():\n",
    "            df[k] += [v]\n",
    "            \n",
    "    return pd.DataFrame.from_dict(df)\n",
    "\n",
    "def show_avgs(df):\n",
    "    for k in ['code', 'code_tokens', 'docstring', 'docstring_tokens']:\n",
    "        avg = test_df[k].apply(len).mean()\n",
    "        print('avg(%s) = %f' % (k, avg))"
   ]
  },
  {
   "cell_type": "code",
   "execution_count": 4,
   "metadata": {},
   "outputs": [
    {
     "name": "stdout",
     "output_type": "stream",
     "text": [
      "there are 22176 examples in python_test_0.jsonl\n",
      "avg(code) = 1067.231962\n",
      "avg(code_tokens) = 114.184839\n",
      "avg(docstring) = 306.947330\n",
      "avg(docstring_tokens) = 15.512401\n"
     ]
    }
   ],
   "source": [
    "test_df  = to_df(test_data)\n",
    "show_avgs(test_df)"
   ]
  },
  {
   "cell_type": "code",
   "execution_count": 5,
   "metadata": {},
   "outputs": [
    {
     "name": "stdout",
     "output_type": "stream",
     "text": [
      ">>> code\n",
      "def setupOutputs(self, config):\n",
      "        \"\"\"Setup output processors\"\"\"\n",
      "\n",
      "        if self.proto == 'tcp':\n",
      "            defaultOutput = {\n",
      "                'output': 'tensor.outputs.riemann.RiemannTCP',\n",
      "                'server': self.server,\n",
      "                'port': self.port\n",
      "            }\n",
      "        else:\n",
      "            defaultOutput = {\n",
      "                'output': 'tensor.outputs.riemann.RiemannUDP',\n",
      "                'server': self.server,\n",
      "                'port': self.port\n",
      "            }\n",
      "\n",
      "        outputs = config.get('outputs', [defaultOutput])\n",
      "\n",
      "        for output in outputs:\n",
      "            if not ('debug' in output):\n",
      "                output['debug'] = self.debug\n",
      "\n",
      "            cl = output['output'].split('.')[-1]                # class\n",
      "            path = '.'.join(output['output'].split('.')[:-1])   # import path\n",
      "\n",
      "            # Import the module and construct the output object\n",
      "            outputObj = getattr(\n",
      "                importlib.import_module(path), cl)(output, self)\n",
      "\n",
      "            name = output.get('name', None)\n",
      "\n",
      "            # Add the output to our routing hash\n",
      "            if name in self.outputs:\n",
      "                self.outputs[name].append(outputObj)\n",
      "            else:\n",
      "                self.outputs[name] = [outputObj]\n",
      "\n",
      "            # connect the output\n",
      "            reactor.callLater(0, outputObj.createClient)\n",
      "--------------------------------\n",
      ">>> docstring\n",
      "Setup output processors\n",
      "--------------------------------\n"
     ]
    }
   ],
   "source": [
    "x = test_df.iloc[random.randint(0, len(test_df))]\n",
    "\n",
    "print('>>> code')\n",
    "print(x['code'])\n",
    "print('-'*32)\n",
    "\n",
    "print('>>> docstring')\n",
    "print(x['docstring'])\n",
    "print('-'*32)"
   ]
  }
 ],
 "metadata": {
  "kernelspec": {
   "display_name": "Python 3",
   "language": "python",
   "name": "python3"
  },
  "language_info": {
   "codemirror_mode": {
    "name": "ipython",
    "version": 3
   },
   "file_extension": ".py",
   "mimetype": "text/x-python",
   "name": "python",
   "nbconvert_exporter": "python",
   "pygments_lexer": "ipython3",
   "version": "3.7.4"
  }
 },
 "nbformat": 4,
 "nbformat_minor": 4
}
