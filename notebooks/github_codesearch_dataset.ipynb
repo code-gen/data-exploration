{
 "cells": [
  {
   "cell_type": "markdown",
   "metadata": {},
   "source": [
    "## GitHub CodeSearch Exploration"
   ]
  },
  {
   "cell_type": "code",
   "execution_count": null,
   "metadata": {},
   "outputs": [],
   "source": [
    "import os\n",
    "import json\n",
    "from pprint import pprint\n",
    "import pandas as pd\n",
    "\n",
    "import random"
   ]
  },
  {
   "cell_type": "code",
   "execution_count": null,
   "metadata": {},
   "outputs": [],
   "source": [
    "!ls ../../raw-datasets/github-codesearch-python/final/jsonl/train"
   ]
  },
  {
   "cell_type": "code",
   "execution_count": null,
   "metadata": {},
   "outputs": [],
   "source": [
    "root_dir = '../../raw-datasets/github-codesearch-python/final/jsonl'\n",
    "\n",
    "train_dir = os.path.join(root_dir, 'train')\n",
    "test_dir  = os.path.join(root_dir, 'test')\n",
    "valid_dir = os.path.join(root_dir, 'valid')\n",
    "\n",
    "train_data = os.path.join(test_dir, )\n",
    "test_data  = os.path.join(test_dir, 'python_test_0.jsonl')\n",
    "\n",
    "def to_df(path):\n",
    "    xs = [json.loads(l.strip()) for l in open(path).readlines()]\n",
    "    print('there are %d examples in %s' % (len(xs), path.split('/')[-1]))\n",
    "    \n",
    "    df = {k: [] for k in xs[0].keys()}\n",
    "    \n",
    "    for x in xs:\n",
    "        for k, v in x.items():\n",
    "            df[k] += [v]\n",
    "            \n",
    "    return pd.DataFrame.from_dict(df)\n",
    "\n",
    "def show_avgs(df):\n",
    "    for k in ['code', 'code_tokens', 'docstring', 'docstring_tokens']:\n",
    "        avg = test_df[k].apply(len).mean()\n",
    "        print('avg(%s) = %f' % (k, avg))"
   ]
  },
  {
   "cell_type": "code",
   "execution_count": null,
   "metadata": {},
   "outputs": [],
   "source": [
    "test_df  = to_df(test_data)\n",
    "show_avgs(test_df)"
   ]
  },
  {
   "cell_type": "code",
   "execution_count": null,
   "metadata": {},
   "outputs": [],
   "source": [
    "x = test_df.iloc[random.randint(0, len(test_df))]\n",
    "\n",
    "print('>>> code')\n",
    "print(x['code'])\n",
    "print('-'*32)\n",
    "\n",
    "print('>>> docstring')\n",
    "print(x['docstring'])\n",
    "print('-'*32)"
   ]
  }
 ],
 "metadata": {
  "kernelspec": {
   "display_name": "Python 3",
   "language": "python",
   "name": "python3"
  },
  "language_info": {
   "codemirror_mode": {
    "name": "ipython",
    "version": 3
   },
   "file_extension": ".py",
   "mimetype": "text/x-python",
   "name": "python",
   "nbconvert_exporter": "python",
   "pygments_lexer": "ipython3",
   "version": "3.7.5"
  }
 },
 "nbformat": 4,
 "nbformat_minor": 4
}
