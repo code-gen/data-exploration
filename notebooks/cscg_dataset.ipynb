{
 "cells": [
  {
   "cell_type": "markdown",
   "metadata": {},
   "source": [
    "## CS/CG Dataset Exploration\n",
    "\n",
    "**Ref:** https://github.com/wanyao1992/code_summarization_public"
   ]
  },
  {
   "cell_type": "code",
   "execution_count": null,
   "metadata": {},
   "outputs": [],
   "source": [
    "import os\n",
    "import re\n",
    "import codecs\n",
    "\n",
    "import pandas as pd\n",
    "import matplotlib.pyplot as plt\n",
    "import seaborn as sns\n",
    "\n",
    "%matplotlib inline\n",
    "%config InlineBackend.figure_format = 'retina'\n",
    "sns.set()"
   ]
  },
  {
   "cell_type": "code",
   "execution_count": null,
   "metadata": {},
   "outputs": [],
   "source": [
    "def sanitize(line):\n",
    "    return line.replace(' DCNL DCSP ', '\\n ').replace(' DCNL ', '\\n').replace(' DCSP ', ' ')\n",
    "\n",
    "def tokenize(line):\n",
    "    tokens = re.split('\\.|\\(|\\)|\\:| |;|,|!|=|[|]', line)\n",
    "    return [t for t in tokens if t.strip()]"
   ]
  },
  {
   "cell_type": "code",
   "execution_count": null,
   "metadata": {},
   "outputs": [],
   "source": [
    "root_dir = os.path.join(os.environ['HOME'], 'workspace/msc-research/raw-datasets/cscg')\n",
    "\n",
    "anno_path = os.path.join(root_dir, 'data_ps.descriptions')\n",
    "code_path = os.path.join(root_dir, 'data_ps.declbodies')\n",
    "\n",
    "anno_stream = codecs.open(anno_path, 'r', 'utf-8', errors='ignore')\n",
    "code_stream = codecs.open(code_path, 'r', 'utf-8', errors='ignore')\n",
    "\n",
    "anno_data, code_data = [], []\n",
    "\n",
    "while True:\n",
    "    a = anno_stream.readline().strip()\n",
    "    c = code_stream.readline().strip()\n",
    "    \n",
    "    if a == '' or c == '':\n",
    "        break\n",
    "    \n",
    "    anno_data.append(a)\n",
    "    code_data.append(c)\n",
    "    \n",
    "assert len(anno_data) == len(code_data)\n",
    "\n",
    "df = pd.DataFrame({'anno': anno_data, 'code': code_data})\n",
    "df['code_tok'] = df['code'].apply(lambda x: tokenize(sanitize(x)))\n",
    "df['code_len'] = df['code_tok'].apply(len)\n",
    "df['anno_tok'] = df['anno'].apply(lambda x: tokenize(sanitize(x)))\n",
    "df['anno_len'] = df['anno_tok'].apply(len)\n",
    "\n",
    "df = df.drop(['anno', 'code'], axis=1)\n",
    "df.sort_values(by=['anno_len', 'code_len'], ascending=False, inplace=True)\n",
    "\n",
    "print('dataset size:', df.shape)"
   ]
  },
  {
   "cell_type": "code",
   "execution_count": null,
   "metadata": {},
   "outputs": [],
   "source": [
    "print(' '.join(df.iloc[0]['code_tok']))"
   ]
  },
  {
   "cell_type": "code",
   "execution_count": null,
   "metadata": {},
   "outputs": [],
   "source": [
    "key = 'anno'\n",
    "x = df[key].apply(len)\n",
    "print(f'{key} len: min {x.min()} | max {x.max()} | mean {x.mean():.3f}')\n",
    "x[(30 <= x) & (x <= 50)].hist(bins=32)"
   ]
  }
 ],
 "metadata": {
  "kernelspec": {
   "display_name": "Python 3",
   "language": "python",
   "name": "python3"
  },
  "language_info": {
   "codemirror_mode": {
    "name": "ipython",
    "version": 3
   },
   "file_extension": ".py",
   "mimetype": "text/x-python",
   "name": "python",
   "nbconvert_exporter": "python",
   "pygments_lexer": "ipython3",
   "version": "3.7.5"
  }
 },
 "nbformat": 4,
 "nbformat_minor": 4
}
