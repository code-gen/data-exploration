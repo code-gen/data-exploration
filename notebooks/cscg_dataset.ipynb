{
 "cells": [
  {
   "cell_type": "markdown",
   "metadata": {},
   "source": [
    "## CS/CG Dataset Exploration\n",
    "\n",
    "**Ref:** https://github.com/wanyao1992/code_summarization_public"
   ]
  },
  {
   "cell_type": "code",
   "execution_count": 1,
   "metadata": {},
   "outputs": [],
   "source": [
    "import os\n",
    "import re\n",
    "import codecs\n",
    "import pprint\n",
    "\n",
    "import pandas as pd\n",
    "import matplotlib.pyplot as plt\n",
    "import seaborn as sns\n",
    "\n",
    "%matplotlib inline\n",
    "%config InlineBackend.figure_format = 'retina'\n",
    "sns.set()\n",
    "\n",
    "pp = pprint.PrettyPrinter(width=120, indent=4, compact=False)"
   ]
  },
  {
   "cell_type": "code",
   "execution_count": null,
   "metadata": {},
   "outputs": [],
   "source": [
    "def sanitize(line):\n",
    "    return line.replace(' DCNL DCSP ', '\\n ').replace(' DCNL ', '\\n').replace(' DCSP ', ' ')\n",
    "\n",
    "def tokenize(line):\n",
    "    tokens = re.split('\\.|\\(|\\)|\\:| |;|,|!|=|[|]', line)\n",
    "    return [t for t in tokens if t.strip()]"
   ]
  },
  {
   "cell_type": "code",
   "execution_count": null,
   "metadata": {},
   "outputs": [],
   "source": [
    "root_dir = os.path.join(os.environ['HOME'], 'workspace/msc-research/raw-datasets/cscg')\n",
    "\n",
    "anno_path = os.path.join(root_dir, 'data_ps.descriptions')\n",
    "code_path = os.path.join(root_dir, 'data_ps.declbodies')\n",
    "\n",
    "anno_stream = codecs.open(anno_path, 'r', 'utf-8', errors='ignore')\n",
    "code_stream = codecs.open(code_path, 'r', 'utf-8', errors='ignore')\n",
    "\n",
    "anno_data, code_data = [], []\n",
    "\n",
    "while True:\n",
    "    a = anno_stream.readline().strip()\n",
    "    c = code_stream.readline().strip()\n",
    "    \n",
    "    if a == '' or c == '':\n",
    "        break\n",
    "    \n",
    "    anno_data.append(a)\n",
    "    code_data.append(c)\n",
    "    \n",
    "assert len(anno_data) == len(code_data)\n",
    "\n",
    "df = pd.DataFrame({'anno': anno_data, 'code': code_data})\n",
    "df['code_tok'] = df['code'].apply(lambda x: tokenize(sanitize(x)))\n",
    "df['code_len'] = df['code_tok'].apply(len)\n",
    "df['anno_tok'] = df['anno'].apply(lambda x: tokenize(sanitize(x)))\n",
    "df['anno_len'] = df['anno_tok'].apply(len)\n",
    "\n",
    "df.sort_values(by=['anno_len', 'code_len'], ascending=False, inplace=True)\n",
    "\n",
    "print('dataset size:', df.shape)"
   ]
  },
  {
   "cell_type": "code",
   "execution_count": null,
   "metadata": {},
   "outputs": [],
   "source": [
    "def sample(n=1):\n",
    "    d = df.sample(n)\n",
    "\n",
    "    return {\n",
    "        'anno': ' '.join(*d['anno_tok']),\n",
    "        'code': ' '.join(*d['code_tok'])\n",
    "    }\n",
    "\n",
    "pp.pprint(sample(1))"
   ]
  },
  {
   "cell_type": "markdown",
   "metadata": {},
   "source": [
    "### Length histograms"
   ]
  },
  {
   "cell_type": "code",
   "execution_count": null,
   "metadata": {},
   "outputs": [],
   "source": [
    "plt.figure(figsize=(16,8))\n",
    "\n",
    "\n",
    "key = 'code_tok'\n",
    "d = df[key].apply(lambda l: len(l) / 1)\n",
    "print(f'{key} len: min {d.min():.3f} | max {d.max():.3f} | mean {d.mean():.3f}')\n",
    "xs = d[(0 <= d) & (d <= 0.01 * len(d))].values\n",
    "\n",
    "y, x, _ = plt.hist(xs, bins=128, label=key, fc=(0,0.5,0.5,0.3))\n",
    "\n",
    "key = 'anno_tok'\n",
    "d = df[key].apply(lambda l: len(l) / 1)\n",
    "print(f'{key} len: min {d.min():.3f} | max {d.max():.3f} | mean {d.mean():.3f}')\n",
    "xs = d[(0 <= d) & (d <= 0.01 * len(d))].values\n",
    "y, x, _ = plt.hist(xs, bins=128, label=key, fc=(0.1,0,0.8,0.2))\n",
    "\n",
    "plt.xticks(np.round(x[::4]))\n",
    "plt.legend()\n",
    "\n",
    "pass"
   ]
  }
 ],
 "metadata": {
  "kernelspec": {
   "display_name": "Python 3",
   "language": "python",
   "name": "python3"
  },
  "language_info": {
   "codemirror_mode": {
    "name": "ipython",
    "version": 3
   },
   "file_extension": ".py",
   "mimetype": "text/x-python",
   "name": "python",
   "nbconvert_exporter": "python",
   "pygments_lexer": "ipython3",
   "version": "3.7.5"
  }
 },
 "nbformat": 4,
 "nbformat_minor": 4
}
