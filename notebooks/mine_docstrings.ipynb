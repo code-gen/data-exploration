{
 "cells": [
  {
   "cell_type": "markdown",
   "metadata": {},
   "source": [
    "## Docstrings Mining"
   ]
  },
  {
   "cell_type": "code",
   "execution_count": null,
   "metadata": {},
   "outputs": [],
   "source": [
    "import ast"
   ]
  },
  {
   "cell_type": "markdown",
   "metadata": {},
   "source": [
    "### 1. AST-based approach\n",
    "- DFS $\\rightarrow$ collect all `FunctionDef` nodes from tree"
   ]
  },
  {
   "cell_type": "code",
   "execution_count": null,
   "metadata": {},
   "outputs": [],
   "source": [
    "def get_info(func: ast.FunctionDef):\n",
    "    s  = f'> func: {func.name}\\n'\n",
    "    s += f'> args: {\",\".join([a.arg for a in func.args.args])}\\n'\n",
    "    s += f'> desc: {ast.get_docstring(func)}'\n",
    "    \n",
    "    return s\n",
    "\n",
    "def mine(module):\n",
    "    with open(module.__file__) as f:\n",
    "        defs = f.read()\n",
    "    \n",
    "    tree = ast.parse(defs)\n",
    "    funcs = [n for n in tree.body if isinstance(n, ast.FunctionDef)]\n",
    "    for f in funcs:\n",
    "        print(get_info(f))\n",
    "        print('-'*80)"
   ]
  },
  {
   "cell_type": "markdown",
   "metadata": {},
   "source": [
    "#### Testing"
   ]
  },
  {
   "cell_type": "code",
   "execution_count": null,
   "metadata": {},
   "outputs": [],
   "source": [
    "import numpy, re, scipy, string\n",
    "\n",
    "module = re\n",
    "print(module.__file__)\n",
    "\n",
    "with open(module.__file__, 'rt') as f:\n",
    "    defs = f.read()\n",
    "    \n",
    "tree = ast.parse(defs)\n",
    "funcs = [n for n in tree.body if isinstance(n, ast.FunctionDef)]\n",
    "# for f in funcs:\n",
    "#     print(get_info(f))\n",
    "#     print('-'*80)\n",
    "    \n",
    "traverse(tree, [], 0, 0)"
   ]
  },
  {
   "cell_type": "code",
   "execution_count": null,
   "metadata": {},
   "outputs": [],
   "source": [
    "tree.body[8].orelse[7].names[0]\n",
    "# tree.body[0].value\n",
    "# print(defs)\n",
    "numpy.core"
   ]
  }
 ],
 "metadata": {
  "kernelspec": {
   "display_name": "Python 3",
   "language": "python",
   "name": "python3"
  },
  "language_info": {
   "codemirror_mode": {
    "name": "ipython",
    "version": 3
   },
   "file_extension": ".py",
   "mimetype": "text/x-python",
   "name": "python",
   "nbconvert_exporter": "python",
   "pygments_lexer": "ipython3",
   "version": "3.7.5"
  }
 },
 "nbformat": 4,
 "nbformat_minor": 4
}
