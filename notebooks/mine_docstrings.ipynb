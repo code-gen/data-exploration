{
 "cells": [
  {
   "cell_type": "markdown",
   "metadata": {},
   "source": [
    "## Docstrings Mining Notebook"
   ]
  },
  {
   "cell_type": "code",
   "execution_count": null,
   "metadata": {},
   "outputs": [],
   "source": [
    "import pydoc\n",
    "import re\n",
    "\n",
    "from nltk.tokenize import sent_tokenize"
   ]
  },
  {
   "cell_type": "code",
   "execution_count": null,
   "metadata": {},
   "outputs": [],
   "source": [
    "class DocstringsMiner:\n",
    "    func_call_regex = re.compile(r\"([a-zA-Z]+[.]{1})?[a-zA-Z0-9]+\\([^\\)]*\\)(\\.[^\\)]*\\))?\")\n",
    "\n",
    "    def __init__(self):\n",
    "        pass\n",
    "\n",
    "    def get_examples(self, module, replace_args=False, return_lines=False):\n",
    "        lines = [\n",
    "            l.strip()\n",
    "            for l in pydoc.render_doc(module, renderer=pydoc.plaintext).replace(\"|\", \"\").split(\"\\n\")\n",
    "            if l.strip() != ''\n",
    "        ]\n",
    "\n",
    "        pairs = []\n",
    "\n",
    "        i = 0\n",
    "        while i < len(lines):\n",
    "            # current line matches a function definition\n",
    "            if re.match(self.func_call_regex, lines[i]):\n",
    "                j = i + 1\n",
    "                desc = []\n",
    "\n",
    "                # get the description of the function: first full sentence after function definition\n",
    "                while True:\n",
    "                    # if it's a natural sentence, append to description and stop at \".\"\n",
    "                    if not re.match(self.func_call_regex, lines[j]):\n",
    "                        desc.append(lines[j])\n",
    "                        if \".\" in lines[j]:\n",
    "                            break\n",
    "                    j += 1\n",
    "\n",
    "                func = lines[i]\n",
    "                desc = \" \".join(desc)\n",
    "\n",
    "                # remove extra chars after last \".\"\n",
    "                if desc[-1] != '.' and '.' in desc:\n",
    "                    desc = desc[:len(desc) - desc[::-1].index('.')]\n",
    "\n",
    "                # replace args with placeholders: arg_i\n",
    "                if replace_args:\n",
    "                    il, ir = lines[i].index('('), lines[i].index(')')\n",
    "                    args = lines[i][il + 1:ir].split(\",\")\n",
    "                    args = \", \".join([\"arg_%d\" % i for i in range(len(args))])\n",
    "                    func = lines[i][:il] + \"(\" + args + \")\"\n",
    "\n",
    "                pairs.append((func, desc))\n",
    "\n",
    "                i = j\n",
    "            else:\n",
    "                i += 1\n",
    "\n",
    "        if return_lines:\n",
    "            return list(set(pairs)), lines\n",
    "        else:\n",
    "            return list(set(pairs))"
   ]
  },
  {
   "cell_type": "markdown",
   "metadata": {},
   "source": [
    "### Testing"
   ]
  },
  {
   "cell_type": "code",
   "execution_count": null,
   "metadata": {},
   "outputs": [],
   "source": [
    "import scipy\n",
    "# --\n",
    "\n",
    "dm = DocstringsMiner()\n",
    "\n",
    "xs, lines = dm.get_examples(module=re, replace_args=False, return_lines=True)\n",
    "\n",
    "for k, v in xs:\n",
    "    print(k)\n",
    "    print(v)\n",
    "    print()"
   ]
  },
  {
   "cell_type": "code",
   "execution_count": null,
   "metadata": {},
   "outputs": [],
   "source": [
    "dm = DocstringsMiner()\n",
    "# modules = [\"re\", \"os\", \"sys\", \"str\"]\n",
    "modules = [\"scipy\"]\n",
    "\n",
    "for m in modules:\n",
    "    try:\n",
    "        exec(\"import %s\" % m)\n",
    "    except ImportError:\n",
    "        print(\">>> %s is not importable\" % m, \"\\n\")\n",
    "\n",
    "    print(\">>> generating examples from %s\" % m, \"\\n\")\n",
    "\n",
    "    for func, desc in dm.get_examples(module=m):\n",
    "        print(\"\\t\", func)\n",
    "        print(\"\\t\", desc, \"\\n\")"
   ]
  }
 ],
 "metadata": {
  "kernelspec": {
   "display_name": "Python 3",
   "language": "python",
   "name": "python3"
  },
  "language_info": {
   "codemirror_mode": {
    "name": "ipython",
    "version": 3
   },
   "file_extension": ".py",
   "mimetype": "text/x-python",
   "name": "python",
   "nbconvert_exporter": "python",
   "pygments_lexer": "ipython3",
   "version": "3.7.3"
  }
 },
 "nbformat": 4,
 "nbformat_minor": 2
}
