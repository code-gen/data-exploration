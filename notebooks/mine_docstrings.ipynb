{
 "cells": [
  {
   "cell_type": "markdown",
   "metadata": {},
   "source": [
    "## Docstrings Mining"
   ]
  },
  {
   "cell_type": "code",
   "execution_count": null,
   "metadata": {},
   "outputs": [],
   "source": [
    "import ast\n",
    "import showast\n",
    "import pandas as pd"
   ]
  },
  {
   "cell_type": "markdown",
   "metadata": {},
   "source": [
    "### 1. AST-based approach\n",
    "- DFS $\\rightarrow$ collect all `FunctionDef` nodes from tree"
   ]
  },
  {
   "cell_type": "code",
   "execution_count": null,
   "metadata": {},
   "outputs": [],
   "source": [
    "def get_func_defs(tree):\n",
    "    funcs = [n for n in tree.body if isinstance(n, ast.FunctionDef)]\n",
    "    methods = []\n",
    "    \n",
    "    classes = [n for n in tree.body if isinstance(n, ast.ClassDef)]\n",
    "    for cls in classes:\n",
    "        methods += [(cls.name, n) for n in cls.body if isinstance(n, ast.FunctionDef)]\n",
    "        \n",
    "    return funcs, methods\n",
    "\n",
    "\n",
    "def mine(module):\n",
    "    out = []\n",
    "    \n",
    "    with open(module.__file__) as f:\n",
    "        defs = f.read()\n",
    "    \n",
    "    tree = ast.parse(defs)\n",
    "    funcs, methods = get_func_defs(tree)\n",
    "\n",
    "    for f in funcs:\n",
    "        args = [a.arg for a in f.args.args]\n",
    "        out += [('function', f.name, args, ast.get_docstring(f))]\n",
    "    \n",
    "    for (c, m) in methods:\n",
    "        args = [a.arg for a in m.args.args]\n",
    "        out += [(f'method @{c}', f.name, args, ast.get_docstring(f))]\n",
    "            \n",
    "    return pd.DataFrame(out, columns=['type', 'name', 'args', 'doc'])"
   ]
  },
  {
   "cell_type": "markdown",
   "metadata": {},
   "source": [
    "#### Testing"
   ]
  },
  {
   "cell_type": "code",
   "execution_count": null,
   "metadata": {},
   "outputs": [],
   "source": [
    "import numpy, re, scipy, string, os\n",
    "\n",
    "module = re\n",
    "print(module.__file__)\n",
    "\n",
    "with open(module.__file__, 'rt') as f:\n",
    "    defs = f.read()\n",
    "    \n",
    "df = mine(module)\n",
    "df.dropna().sort_values(by='name')"
   ]
  },
  {
   "cell_type": "code",
   "execution_count": null,
   "metadata": {},
   "outputs": [],
   "source": [
    "tree.body[8].orelse[7].names[0]\n",
    "# tree.body[0].value\n",
    "# print(defs)\n",
    "numpy.core"
   ]
  }
 ],
 "metadata": {
  "kernelspec": {
   "display_name": "Python 3",
   "language": "python",
   "name": "python3"
  },
  "language_info": {
   "codemirror_mode": {
    "name": "ipython",
    "version": 3
   },
   "file_extension": ".py",
   "mimetype": "text/x-python",
   "name": "python",
   "nbconvert_exporter": "python",
   "pygments_lexer": "ipython3",
   "version": "3.7.5"
  }
 },
 "nbformat": 4,
 "nbformat_minor": 4
}
