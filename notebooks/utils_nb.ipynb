{
 "cells": [
  {
   "cell_type": "code",
   "execution_count": 1,
   "metadata": {},
   "outputs": [],
   "source": [
    "import pickle\n",
    "from collections import Counter\n",
    "from tqdm.auto import tqdm"
   ]
  },
  {
   "cell_type": "code",
   "execution_count": 2,
   "metadata": {},
   "outputs": [],
   "source": [
    "def get_all_words_pred(corpus, vocab_size, word_predicate, **kwargs):\n",
    "    \"\"\"\n",
    "    Get most common vocab_size words from corpus, given word_predicate\n",
    "    \"\"\"\n",
    "    all_words = []\n",
    "    counter = Counter()\n",
    "    \n",
    "    pt_emb = kwargs['pt_emb']\n",
    "    min_freq = kwargs['min_freq']\n",
    "    \n",
    "    if isinstance(corpus, str):\n",
    "        corpus = pickle.load(open(corpus, 'rb'))\n",
    "    if isinstance(pt_emb, str):\n",
    "        pt_emb = pickle.load(open(pt_emb, 'rb'))\n",
    "\n",
    "    for sent in tqdm(corpus, desc=\"Question words processing\"):\n",
    "        for word in sent:\n",
    "            if word_predicate(word):\n",
    "                counter[word] += 1\n",
    "                all_words.append(word)\n",
    "\n",
    "    all_words = [word for word in all_words if counter[word] >= min_freq]\n",
    "\n",
    "    return Counter(dict(Counter(all_words).most_common()[:vocab_size]))"
   ]
  },
  {
   "cell_type": "code",
   "execution_count": 3,
   "metadata": {},
   "outputs": [],
   "source": [
    "CS_WORDS = \"\"\"\n",
    "    call function return value assign invoke procedure module import parameter argument\n",
    "    syntax error replace process fork thread child semantic distance edit parameters arguments\n",
    "    flow folder open close descriptor language comprehension list set dictionary braces curly\n",
    "    sketch encoding kernel security algorithm loop recursive recursion mutual linux unix system \n",
    "    expression regular compile compiler bug fix workaround issue github git dinosaurs\n",
    "\"\"\" .split()"
   ]
  },
  {
   "cell_type": "code",
   "execution_count": 7,
   "metadata": {},
   "outputs": [
    {
     "data": {
      "application/vnd.jupyter.widget-view+json": {
       "model_id": "1ab3b86bde7f4d389e8ba0f09b4644e6",
       "version_major": 2,
       "version_minor": 0
      },
      "text/plain": [
       "HBox(children=(IntProgress(value=0, description='Question words processing', max=607282, style=ProgressStyle(d…"
      ]
     },
     "metadata": {},
     "output_type": "display_data"
    },
    {
     "name": "stdout",
     "output_type": "stream",
     "text": [
      "\n"
     ]
    }
   ],
   "source": [
    "question_words = pickle.load(open('../../corpus/python-stackoverflow/question_words_clean.pickle', 'rb'))\n",
    "pt_emb = pickle.load(open('../../embeddings/glove.6B.200d.txt.pickle', 'rb'))\n",
    "c = get_all_words_pred(\n",
    "    corpus=question_words,\n",
    "    vocab_size=8000,\n",
    "    word_predicate=lambda w : w in pt_emb,\n",
    "    min_freq=100, pt_emb=pt_emb # kwargs\n",
    ")"
   ]
  },
  {
   "cell_type": "code",
   "execution_count": 8,
   "metadata": {},
   "outputs": [
    {
     "name": "stdout",
     "output_type": "stream",
     "text": [
      "Not found: {'dinosaurs'}\n"
     ]
    }
   ],
   "source": [
    "print(\"Not found:\", set(CS_WORDS) - set(c.keys()))\n",
    "# c.most_common()[-100:]"
   ]
  }
 ],
 "metadata": {
  "kernelspec": {
   "display_name": "Python 3",
   "language": "python",
   "name": "python3"
  },
  "language_info": {
   "codemirror_mode": {
    "name": "ipython",
    "version": 3
   },
   "file_extension": ".py",
   "mimetype": "text/x-python",
   "name": "python",
   "nbconvert_exporter": "python",
   "pygments_lexer": "ipython3",
   "version": "3.7.3"
  }
 },
 "nbformat": 4,
 "nbformat_minor": 2
}
